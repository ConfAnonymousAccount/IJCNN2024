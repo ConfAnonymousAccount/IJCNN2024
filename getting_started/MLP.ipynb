{
 "cells": [
  {
   "cell_type": "markdown",
   "metadata": {},
   "source": [
    "## Model long COVID Intensity using Multi-Layer Perceptron (MLP)"
   ]
  },
  {
   "cell_type": "code",
   "execution_count": 2,
   "metadata": {},
   "outputs": [],
   "source": [
    "import pathlib\n",
    "from pprint import pprint\n",
    "import numpy as np\n",
    "from package.data.utils import *"
   ]
  },
  {
   "cell_type": "code",
   "execution_count": 3,
   "metadata": {},
   "outputs": [],
   "source": [
    "data_path = pathlib.Path(\"/groups/umcg-lifelines/tmp01/projects/ov21_0402/data\")\n",
    "path_to_table = data_path / \"dataset_order_202201\" / \"results\"\n",
    "path_to_enum = path_to_table.parent / \"enumerations\"\n",
    "save_path = pathlib.Path().absolute().parent.parent.parent / \"data\" / \"extract\" / \"vaccination\"\n",
    "load_path = pathlib.Path().absolute().parent.parent.parent / \"data\" / \"extract\" / \"vaccination\"\n",
    "load_path_merged = pathlib.Path().absolute().parent.parent.parent / \"data\" / \"extract\" / \"merged\""
   ]
  },
  {
   "cell_type": "markdown",
   "metadata": {},
   "source": [
    "## Read the dataset"
   ]
  },
  {
   "cell_type": "code",
   "execution_count": 4,
   "metadata": {},
   "outputs": [],
   "source": [
    "from package.data.lifeline_dataset import LifeLineDataSet\n",
    "from package.data.data_manager import DataManager"
   ]
  },
  {
   "cell_type": "code",
   "execution_count": 5,
   "metadata": {},
   "outputs": [],
   "source": [
    "data_path = pathlib.Path().absolute().parent.parent.parent\n",
    "dataset = LifeLineDataSet(data_path=data_path / \"data\" / \"extract\" / \"merged\", \n",
    "                          dataset_name=\"merged_vaccin_only_1_full.csv\",\n",
    "                          target_variable=\"long_covid_intensity\")\n",
    "dataset.get_encoded_data()"
   ]
  },
  {
   "cell_type": "code",
   "execution_count": 6,
   "metadata": {},
   "outputs": [],
   "source": [
    "data_manager = DataManager()\n",
    "data_manager.split_data_train_val_test(dataset, train_size=0.7, val_test_prop=0.8)"
   ]
  },
  {
   "cell_type": "code",
   "execution_count": 7,
   "metadata": {},
   "outputs": [
    {
     "name": "stdout",
     "output_type": "stream",
     "text": [
      "(3259, 41)\n",
      "(279, 41)\n",
      "(1119, 41)\n"
     ]
    }
   ],
   "source": [
    "print(data_manager.train_dataset.features.shape)\n",
    "print(data_manager.val_dataset.features.shape)\n",
    "print(data_manager.test_dataset.features.shape)"
   ]
  },
  {
   "cell_type": "markdown",
   "metadata": {},
   "source": [
    "## Multi-Layer Perceptrons (MLP)"
   ]
  },
  {
   "cell_type": "code",
   "execution_count": 9,
   "metadata": {},
   "outputs": [],
   "source": [
    "from package.data.scaler import StandardScaler\n",
    "from package.model.torch_models import TorchModels\n",
    "from package.model.fully_connected import FullyConnected\n",
    "from package.model.utils import k_fold, cross_validation, compute_metrics"
   ]
  },
  {
   "cell_type": "code",
   "execution_count": 10,
   "metadata": {},
   "outputs": [],
   "source": [
    "CONFIG_PATH = pathlib.Path().resolve().parent / \"configurations\" / \"models\" / \"torch_fc.ini\"\n",
    "fc_model = TorchModels(FullyConnected,\n",
    "                       config_path=CONFIG_PATH,\n",
    "                       config_name=\"FINE_TUNED\",\n",
    "                       name=\"fully_connected\",\n",
    "                       scaler=StandardScaler\n",
    "                       )"
   ]
  },
  {
   "cell_type": "code",
   "execution_count": null,
   "metadata": {},
   "outputs": [],
   "source": [
    "fc_model.params"
   ]
  },
  {
   "cell_type": "markdown",
   "metadata": {},
   "source": [
    "Train the model"
   ]
  },
  {
   "cell_type": "code",
   "execution_count": null,
   "metadata": {},
   "outputs": [],
   "source": [
    "fc_model.train(train_dataset=data_manager.train_dataset, val_dataset=data_manager.val_dataset)"
   ]
  },
  {
   "cell_type": "markdown",
   "metadata": {},
   "source": [
    "Print the model architecture"
   ]
  },
  {
   "cell_type": "code",
   "execution_count": null,
   "metadata": {},
   "outputs": [],
   "source": [
    "print(fc_model._model)"
   ]
  },
  {
   "cell_type": "markdown",
   "metadata": {},
   "source": [
    "Visualize the convergence of the model"
   ]
  },
  {
   "cell_type": "code",
   "execution_count": null,
   "metadata": {},
   "outputs": [],
   "source": [
    "from matplotlib import pyplot as plt\n",
    "plt.figure(figsize=(10,8))\n",
    "plt.plot(fc_model.train_losses, label=\"train\")\n",
    "plt.plot(fc_model.val_losses, label=\"validation\")\n",
    "plt.xlabel(\"Epochs\")\n",
    "plt.ylabel(\"Loss\")\n",
    "plt.grid()\n",
    "plt.legend()\n",
    "plt.show()"
   ]
  },
  {
   "cell_type": "markdown",
   "metadata": {},
   "source": [
    "Predict using test dataset"
   ]
  },
  {
   "cell_type": "code",
   "execution_count": 32,
   "metadata": {},
   "outputs": [],
   "source": [
    "predictions = fc_model.predict(data_manager.test_dataset,scale_only_features=False)\n",
    "predictions = np.concatenate(predictions)"
   ]
  },
  {
   "cell_type": "markdown",
   "metadata": {},
   "source": [
    "Evaluate and compute metrics"
   ]
  },
  {
   "cell_type": "code",
   "execution_count": null,
   "metadata": {},
   "outputs": [],
   "source": [
    "if fc_model._model.scaler is not None:\n",
    "    targets = fc_model._model.scaler.inverse_transform(data_manager.test_dataset.targets)\n",
    "else:\n",
    "    targets = data_manager.test_dataset.targets\n",
    "metrics = compute_metrics(targets, predictions, index=-1)\n",
    "pprint(metrics)"
   ]
  },
  {
   "cell_type": "markdown",
   "metadata": {},
   "source": [
    "### Cross Validation"
   ]
  },
  {
   "cell_type": "code",
   "execution_count": 17,
   "metadata": {},
   "outputs": [
    {
     "name": "stdout",
     "output_type": "stream",
     "text": [
      "number of splits: 5\n"
     ]
    }
   ],
   "source": [
    "train_datasets, test_datasets = k_fold(dataset.features, dataset.targets, folds=5)"
   ]
  },
  {
   "cell_type": "code",
   "execution_count": null,
   "metadata": {},
   "outputs": [],
   "source": [
    "trained_models, metrics_all = cross_validation(FullyConnected, \n",
    "                                               train_datasets, \n",
    "                                               test_datasets, \n",
    "                                               config_path=CONFIG_PATH, \n",
    "                                               config_name=\"FINE_TUNED\")"
   ]
  },
  {
   "cell_type": "markdown",
   "metadata": {},
   "source": [
    "Compute the metrics using mean and standard deviation"
   ]
  },
  {
   "cell_type": "code",
   "execution_count": 19,
   "metadata": {},
   "outputs": [],
   "source": [
    "metrics_list = [\"mae\", \"mse\", \"mape\", \"pearson\"]\n",
    "metrics_values = dict()\n",
    "metrics_summary = dict()\n",
    "for metric in metrics_list:\n",
    "    metrics_values[metric] = []\n",
    "    metrics_summary[metric] = {}\n",
    "    for res in metrics_all:\n",
    "        metrics_values[metric].append(res[metric])\n",
    "    metrics_summary[metric][\"mean\"] = np.mean(metrics_values[metric])\n",
    "    metrics_summary[metric][\"std\"] = np.std(metrics_values[metric])"
   ]
  },
  {
   "cell_type": "code",
   "execution_count": null,
   "metadata": {},
   "outputs": [],
   "source": [
    "metrics_summary"
   ]
  },
  {
   "cell_type": "code",
   "execution_count": null,
   "metadata": {},
   "outputs": [],
   "source": [
    "pearson_tests = []\n",
    "test_value = []\n",
    "p_values = []\n",
    "for i in range(5):\n",
    "    pearson_tests.append(metrics_all[i][\"pearson\"])\n",
    "    test_value.append(pearson_tests[i].statistic)\n",
    "    p_values.append(pearson_tests[i].pvalue)\n",
    "print(np.mean(test_value))\n",
    "print(np.mean(p_values))"
   ]
  }
 ],
 "metadata": {
  "kernelspec": {
   "display_name": "lifeline",
   "language": "python",
   "name": "lifeline"
  },
  "language_info": {
   "codemirror_mode": {
    "name": "ipython",
    "version": 3
   },
   "file_extension": ".py",
   "mimetype": "text/x-python",
   "name": "python",
   "nbconvert_exporter": "python",
   "pygments_lexer": "ipython3",
   "version": "3.9.1"
  },
  "orig_nbformat": 4
 },
 "nbformat": 4,
 "nbformat_minor": 2
}
